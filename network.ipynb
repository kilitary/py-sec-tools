{
 "cells": [
  {
   "cell_type": "code",
   "execution_count": 1,
   "metadata": {
    "collapsed": true,
    "jupyter": {
     "outputs_hidden": true
    },
    "pycharm": {
     "name": "#%%\n"
    }
   },
   "outputs": [
    {
     "name": "stdout",
     "output_type": "stream",
     "text": [
      "Using cpu device\n",
      "NeuralNetwork(\n",
      "  (flatten): Flatten(start_dim=1, end_dim=-1)\n",
      "  (linear_relu_stack): Sequential(\n",
      "    (0): Linear(in_features=784, out_features=512, bias=True)\n",
      "    (1): ReLU()\n",
      "    (2): Linear(in_features=512, out_features=512, bias=True)\n",
      "    (3): ReLU()\n",
      "    (4): Linear(in_features=512, out_features=10, bias=True)\n",
      "  )\n",
      ")\n",
      "tensor([[-0.0482,  0.0634,  0.0461, -0.0178, -0.0194, -0.0150,  0.0364,  0.0071,\n",
      "          0.0261,  0.0988]], grad_fn=<AddmmBackward0>)\n",
      "Predicted class: tensor([9])\n",
      "torch.Size([3, 28, 28])\n",
      "torch.Size([3, 784])\n",
      "torch.Size([3, 20])\n",
      "Before ReLU: tensor([[ 0.0856, -0.0853,  0.4529,  0.4982, -0.4492, -0.4891,  0.1092, -0.1035,\n",
      "          0.0266, -0.2533, -0.0976, -0.0442, -0.0962, -0.0511,  0.4659, -0.0609,\n",
      "          0.0190,  0.3876,  0.1001,  0.1216],\n",
      "        [ 0.1716, -0.1166,  0.5227,  0.5749, -0.3755, -0.2613,  0.1983, -0.1373,\n",
      "          0.0970, -0.0714,  0.4666, -0.7212, -0.1922,  0.2871,  0.1853, -0.0225,\n",
      "          0.2007,  0.2724,  0.3104, -0.0928],\n",
      "        [ 0.1071, -0.4116,  1.0719,  0.4494, -0.7242, -0.3219,  0.2035, -0.2711,\n",
      "          0.0021,  0.0858,  0.0787, -0.3339, -0.3626,  0.2636,  0.6499,  0.1556,\n",
      "          0.4312,  0.5542,  0.1612, -0.1429]], grad_fn=<AddmmBackward0>)\n",
      "\n",
      "\n",
      "After ReLU: tensor([[0.0856, 0.0000, 0.4529, 0.4982, 0.0000, 0.0000, 0.1092, 0.0000, 0.0266,\n",
      "         0.0000, 0.0000, 0.0000, 0.0000, 0.0000, 0.4659, 0.0000, 0.0190, 0.3876,\n",
      "         0.1001, 0.1216],\n",
      "        [0.1716, 0.0000, 0.5227, 0.5749, 0.0000, 0.0000, 0.1983, 0.0000, 0.0970,\n",
      "         0.0000, 0.4666, 0.0000, 0.0000, 0.2871, 0.1853, 0.0000, 0.2007, 0.2724,\n",
      "         0.3104, 0.0000],\n",
      "        [0.1071, 0.0000, 1.0719, 0.4494, 0.0000, 0.0000, 0.2035, 0.0000, 0.0021,\n",
      "         0.0858, 0.0787, 0.0000, 0.0000, 0.2636, 0.6499, 0.1556, 0.4312, 0.5542,\n",
      "         0.1612, 0.0000]], grad_fn=<ReluBackward0>)\n",
      "tensor([[-0.2500,  0.1503,  0.0231,  0.1198, -0.1552,  0.0236, -0.0243, -0.1986,\n",
      "         -0.1038, -0.2413],\n",
      "        [-0.2469,  0.0494,  0.0974,  0.0736, -0.0888,  0.0019, -0.0512, -0.1358,\n",
      "         -0.1620, -0.1851],\n",
      "        [-0.1869,  0.0377,  0.1072,  0.1948, -0.1823, -0.0016,  0.0360, -0.2403,\n",
      "         -0.2429, -0.2449]], grad_fn=<AddmmBackward0>)\n",
      "Model structure: NeuralNetwork(\n",
      "  (flatten): Flatten(start_dim=1, end_dim=-1)\n",
      "  (linear_relu_stack): Sequential(\n",
      "    (0): Linear(in_features=784, out_features=512, bias=True)\n",
      "    (1): ReLU()\n",
      "    (2): Linear(in_features=512, out_features=512, bias=True)\n",
      "    (3): ReLU()\n",
      "    (4): Linear(in_features=512, out_features=10, bias=True)\n",
      "  )\n",
      ")\n",
      "\n",
      "\n",
      "Layer: linear_relu_stack.0.weight | Size: torch.Size([512, 784]) | Values : tensor([[-0.0150, -0.0114, -0.0341,  ..., -0.0065, -0.0139,  0.0286],\n",
      "        [-0.0322, -0.0145, -0.0184,  ..., -0.0352, -0.0114,  0.0267]],\n",
      "       grad_fn=<SliceBackward0>) \n",
      "\n",
      "Layer: linear_relu_stack.0.bias | Size: torch.Size([512]) | Values : tensor([0.0165, 0.0300], grad_fn=<SliceBackward0>) \n",
      "\n",
      "Layer: linear_relu_stack.2.weight | Size: torch.Size([512, 512]) | Values : tensor([[ 0.0312,  0.0154,  0.0161,  ...,  0.0254,  0.0342,  0.0240],\n",
      "        [ 0.0415,  0.0144, -0.0376,  ...,  0.0078,  0.0016,  0.0362]],\n",
      "       grad_fn=<SliceBackward0>) \n",
      "\n",
      "Layer: linear_relu_stack.2.bias | Size: torch.Size([512]) | Values : tensor([-0.0408,  0.0195], grad_fn=<SliceBackward0>) \n",
      "\n",
      "Layer: linear_relu_stack.4.weight | Size: torch.Size([10, 512]) | Values : tensor([[-0.0074, -0.0393,  0.0111,  ...,  0.0062,  0.0282, -0.0367],\n",
      "        [ 0.0210,  0.0038, -0.0275,  ..., -0.0271,  0.0260, -0.0008]],\n",
      "       grad_fn=<SliceBackward0>) \n",
      "\n",
      "Layer: linear_relu_stack.4.bias | Size: torch.Size([10]) | Values : tensor([ 0.0046, -0.0095], grad_fn=<SliceBackward0>) \n",
      "\n"
     ]
    }
   ],
   "source": [
    "import os\n",
    "import torch\n",
    "from torch import nn\n",
    "from torch.utils.data import DataLoader\n",
    "from torchvision import datasets, transforms\n",
    "\n",
    "device = \"cuda\" if torch.cuda.is_available() else \"cpu\"\n",
    "print(f\"Using {device} device\")\n",
    "\n",
    "class NeuralNetwork(nn.Module):\n",
    "\n",
    "    def __init__(self):\n",
    "        super(NeuralNetwork, self).__init__()\n",
    "        self.flatten = nn.Flatten()\n",
    "        self.linear_relu_stack = nn.Sequential(\n",
    "            nn.Linear(28 * 28, 512),\n",
    "            nn.ReLU(),\n",
    "            nn.Linear(512, 512),\n",
    "            nn.ReLU(),\n",
    "            nn.Linear(512, 10),\n",
    "        )\n",
    "\n",
    "    def forward(self, x):\n",
    "        x = self.flatten(x)\n",
    "        logits = self.linear_relu_stack(x)\n",
    "        return logits\n",
    "\n",
    "model = NeuralNetwork().to(device)\n",
    "print(model)\n",
    "\n",
    "X = torch.rand(1, 28, 28, device=device)\n",
    "#print(X)\n",
    "logits = model(X)\n",
    "print(logits)\n",
    "pred_probab = nn.Softmax(dim=1)(logits)\n",
    "y_pred = pred_probab.argmax(1)\n",
    "print(f\"Predicted class: {y_pred}\")\n",
    "\n",
    "input_image = torch.rand(3, 28, 28)\n",
    "print(input_image.size())\n",
    "\n",
    "flatten = nn.Flatten()\n",
    "flat_image = flatten(input_image)\n",
    "print(flat_image.size())\n",
    "\n",
    "layer1 = nn.Linear(in_features=28 * 28, out_features=20)\n",
    "hidden1 = layer1(flat_image)\n",
    "print(hidden1.size())\n",
    "\n",
    "print(f\"Before ReLU: {hidden1}\\n\\n\")\n",
    "hidden1 = nn.ReLU()(hidden1)\n",
    "print(f\"After ReLU: {hidden1}\")\n",
    "\n",
    "seq_modules = nn.Sequential(\n",
    "    flatten,\n",
    "    layer1,\n",
    "    nn.ReLU(),\n",
    "    nn.Linear(20, 10)\n",
    ")\n",
    "input_image = torch.rand(3, 28, 28)\n",
    "logits = seq_modules(input_image)\n",
    "print(logits)\n",
    "\n",
    "print(f\"Model structure: {model}\\n\\n\")\n",
    "\n",
    "for name, param in model.named_parameters():\n",
    "    print(f\"Layer: {name} | Size: {param.size()} | Values : {param[:2]} \\n\")\n"
   ]
  },
  {
   "cell_type": "code",
   "execution_count": 7,
   "metadata": {
    "collapsed": false,
    "jupyter": {
     "outputs_hidden": false
    },
    "pycharm": {
     "name": "#%%\n"
    }
   },
   "outputs": [
    {
     "name": "stdout",
     "output_type": "stream",
     "text": [
      "[3, 4, 5]\n",
      "[3, 6, 5]\n",
      "[4, tensor([[6.2407, 4.3074, 6.6834],\n",
      "        [6.2378, 5.3191, 7.7576],\n",
      "        [6.1277, 6.4511, 6.4315],\n",
      "        [7.3500, 6.7342, 4.6958],\n",
      "        [6.6259, 6.1049, 4.8670]]), tensor([[4.2752, 6.3827, 4.9688],\n",
      "        [4.0993, 5.7190, 8.5414],\n",
      "        [4.7677, 5.6207, 6.5143],\n",
      "        [5.6958, 4.6735, 6.8876],\n",
      "        [4.1779, 3.8175, 5.0746]])]\n",
      "[4, 1, tensor([[4.2752, 6.3827, 4.9688],\n",
      "        [4.0993, 5.7190, 8.5414],\n",
      "        [4.7677, 5.6207, 6.5143],\n",
      "        [5.6958, 4.6735, 6.8876],\n",
      "        [4.1779, 3.8175, 5.0746]])] <class 'list'>)\n",
      "2\n"
     ]
    }
   ],
   "source": [
    "import torch\n",
    "\n",
    "a = [3, 4, 5]\n",
    "b = a  # a and b refer to the same list object\n",
    "print(f'{b}')\n",
    "a[1] = 6\n",
    "print(f'{b}')\n",
    "for i in range(len(a)):\n",
    "    a[i] += torch.randn(5, 3, requires_grad=False) if i % 3 else 1\n",
    "print(f'{a}')\n",
    "a[1] = 1\n",
    "print(f'{b} {type(b)})')\n",
    "\n",
    "a = 4\n",
    "b = a // 2\n",
    "print(b)"
   ]
  },
  {
   "cell_type": "code",
   "execution_count": 8,
   "metadata": {
    "collapsed": false,
    "jupyter": {
     "outputs_hidden": false
    },
    "pycharm": {
     "name": "#%%\n"
    }
   },
   "outputs": [
    {
     "name": "stdout",
     "output_type": "stream",
     "text": [
      "Buyers:  []\n",
      "Prices:  []\n"
     ]
    }
   ],
   "source": [
    "import requests\n",
    "from lxml import html\n",
    "import pprint\n",
    "\n",
    "pp = pprint.PrettyPrinter(indent=4)\n",
    "\n",
    "page = requests.get('http://econpy.pythonanywhere.com/ex/001.html')\n",
    "tree = html.fromstring(page.content)\n",
    "#This will create a list of buyers:\n",
    "buyers = tree.xpath('//div[@title=\"buyer-name\"]/text()')\n",
    "#This will create a list of prices\n",
    "prices = tree.xpath('//span[@class=\"item-price\"]/text()')\n",
    "\n",
    "print('Buyers: ', buyers)\n",
    "print('Prices: ', prices)"
   ]
  },
  {
   "cell_type": "code",
   "execution_count": 3,
   "metadata": {
    "collapsed": false,
    "jupyter": {
     "outputs_hidden": false
    },
    "pycharm": {
     "name": "#%%\n"
    }
   },
   "outputs": [
    {
     "ename": "ModuleNotFoundError",
     "evalue": "No module named 'records'",
     "output_type": "error",
     "traceback": [
      "\u001B[1;31m---------------------------------------------------------------------------\u001B[0m",
      "\u001B[1;31mModuleNotFoundError\u001B[0m                       Traceback (most recent call last)",
      "Input \u001B[1;32mIn [3]\u001B[0m, in \u001B[0;36m<cell line: 1>\u001B[1;34m()\u001B[0m\n\u001B[1;32m----> 1\u001B[0m \u001B[38;5;28;01mimport\u001B[39;00m \u001B[38;5;21;01mrecords\u001B[39;00m\n\u001B[0;32m      2\u001B[0m \u001B[38;5;28;01mimport\u001B[39;00m \u001B[38;5;21;01mpsycopg2\u001B[39;00m\n\u001B[0;32m      3\u001B[0m \u001B[38;5;28;01mimport\u001B[39;00m \u001B[38;5;21;01mtime\u001B[39;00m\n",
      "\u001B[1;31mModuleNotFoundError\u001B[0m: No module named 'records'"
     ]
    }
   ],
   "source": [
    "import records\n",
    "import psycopg2\n",
    "import time\n",
    "\n",
    "db = records.Database('postgresql://wateradmin@kilitary.xyz:5432/wateradmin2')\n",
    "items = db.query('select * from cart_items')  # or db.query_file('sqls/active-users.sql')\n",
    "for item in items:\n",
    "    print(f'{item}')\n",
    "    time.sleep(0.9)"
   ]
  },
  {
   "cell_type": "code",
   "execution_count": 9,
   "metadata": {
    "collapsed": false,
    "jupyter": {
     "outputs_hidden": false
    },
    "pycharm": {
     "name": "#%%\n"
    }
   },
   "outputs": [
    {
     "name": "stdout",
     "output_type": "stream",
     "text": [
      "w tensor([[-0.6661, -2.1577,  0.7268],\n",
      "        [ 0.2644, -0.1757,  0.0706],\n",
      "        [-0.7501, -1.8445, -1.3773],\n",
      "        [ 1.8543, -0.9306, -1.2281],\n",
      "        [ 1.7637, -0.6242,  0.0769]], requires_grad=True) b tensor([1.4208, 0.2189, 1.6642], requires_grad=True) z tensor([ 3.8870, -5.5139, -0.0668], grad_fn=<AddBackward0>)\n",
      "Gradient function for z = <AddBackward0 object at 0x00000294742B7D00>\n",
      "Gradient function for loss = <BinaryCrossEntropyWithLogitsBackward0 object at 0x0000029473F56DC0>\n",
      "tensor([[0.3266, 0.0013, 0.1611],\n",
      "        [0.3266, 0.0013, 0.1611],\n",
      "        [0.3266, 0.0013, 0.1611],\n",
      "        [0.3266, 0.0013, 0.1611],\n",
      "        [0.3266, 0.0013, 0.1611]])\n",
      "tensor([0.3266, 0.0013, 0.1611])\n"
     ]
    }
   ],
   "source": [
    "x = torch.ones(5)  # input tensor\n",
    "y = torch.zeros(3)  # expected output\n",
    "w = torch.randn(5, 3, requires_grad=True)\n",
    "b = torch.randn(3, requires_grad=True)\n",
    "z = torch.matmul(x, w) + b\n",
    "loss = torch.nn.functional.binary_cross_entropy_with_logits(z, y)\n",
    "print(f'w {w} b {b} z {z}')\n",
    "print(f\"Gradient function for z = {z.grad_fn}\")\n",
    "print(f\"Gradient function for loss = {loss.grad_fn}\")\n",
    "\n",
    "loss.backward(retain_graph=True)\n",
    "print(w.grad)\n",
    "print(b.grad)\n"
   ]
  }
 ],
 "metadata": {
  "kernelspec": {
   "display_name": "Python 3 (ipykernel)",
   "language": "python",
   "name": "python3"
  },
  "language_info": {
   "codemirror_mode": {
    "name": "ipython",
    "version": 3
   },
   "file_extension": ".py",
   "mimetype": "text/x-python",
   "name": "python",
   "nbconvert_exporter": "python",
   "pygments_lexer": "ipython3",
   "version": "3.10.4"
  }
 },
 "nbformat": 4,
 "nbformat_minor": 4
}