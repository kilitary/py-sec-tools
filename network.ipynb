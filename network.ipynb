{
 "cells": [
  {
   "cell_type": "code",
   "execution_count": 1,
   "metadata": {
    "collapsed": true,
    "jupyter": {
     "outputs_hidden": true
    },
    "pycharm": {
     "name": "#%%\n"
    }
   },
   "outputs": [
    {
     "name": "stdout",
     "output_type": "stream",
     "text": [
      "Using cpu device\n",
      "NeuralNetwork(\n",
      "  (flatten): Flatten(start_dim=1, end_dim=-1)\n",
      "  (linear_relu_stack): Sequential(\n",
      "    (0): Linear(in_features=784, out_features=512, bias=True)\n",
      "    (1): ReLU()\n",
      "    (2): Linear(in_features=512, out_features=512, bias=True)\n",
      "    (3): ReLU()\n",
      "    (4): Linear(in_features=512, out_features=10, bias=True)\n",
      "  )\n",
      ")\n",
      "tensor([[ 0.0663,  0.0605,  0.0539, -0.0450,  0.0618,  0.0884, -0.0019, -0.0272,\n",
      "         -0.0022,  0.0281]], grad_fn=<AddmmBackward0>)\n",
      "Predicted class: tensor([5])\n",
      "torch.Size([3, 28, 28])\n",
      "torch.Size([3, 784])\n",
      "torch.Size([3, 20])\n",
      "Before ReLU: tensor([[ 0.4798,  0.3930,  0.0646,  0.2410, -0.5300,  0.1733,  0.9288,  0.1190,\n",
      "         -0.1442,  0.4274,  0.1679, -0.5062,  0.1053, -0.3378,  0.2516, -0.4337,\n",
      "          0.2108,  0.0485,  0.1998, -0.3547],\n",
      "        [ 0.1239,  0.6986, -0.1665,  0.2992, -0.6248,  0.0093,  0.6635, -0.1841,\n",
      "         -0.3447,  0.3648,  0.2900, -0.2041, -0.0400, -0.0994,  0.3502, -0.2625,\n",
      "          0.0914, -0.2460,  0.6434, -0.0685],\n",
      "        [ 0.2720, -0.0285, -0.1935,  0.1575, -0.5591,  0.1294,  0.8941, -0.3338,\n",
      "         -0.2894,  0.7034, -0.2823,  0.0339,  0.0936, -0.4939,  0.4842, -0.1861,\n",
      "          0.1417,  0.3152,  0.3476, -0.1825]], grad_fn=<AddmmBackward0>)\n",
      "\n",
      "\n",
      "After ReLU: tensor([[0.4798, 0.3930, 0.0646, 0.2410, 0.0000, 0.1733, 0.9288, 0.1190, 0.0000,\n",
      "         0.4274, 0.1679, 0.0000, 0.1053, 0.0000, 0.2516, 0.0000, 0.2108, 0.0485,\n",
      "         0.1998, 0.0000],\n",
      "        [0.1239, 0.6986, 0.0000, 0.2992, 0.0000, 0.0093, 0.6635, 0.0000, 0.0000,\n",
      "         0.3648, 0.2900, 0.0000, 0.0000, 0.0000, 0.3502, 0.0000, 0.0914, 0.0000,\n",
      "         0.6434, 0.0000],\n",
      "        [0.2720, 0.0000, 0.0000, 0.1575, 0.0000, 0.1294, 0.8941, 0.0000, 0.0000,\n",
      "         0.7034, 0.0000, 0.0339, 0.0936, 0.0000, 0.4842, 0.0000, 0.1417, 0.3152,\n",
      "         0.3476, 0.0000]], grad_fn=<ReluBackward0>)\n",
      "tensor([[ 0.1090,  0.0763, -0.1968,  0.1248, -0.0648, -0.0885,  0.1115, -0.1313,\n",
      "          0.1179, -0.2241],\n",
      "        [-0.0648,  0.0446, -0.2499,  0.0462, -0.1840, -0.1644,  0.0329, -0.0956,\n",
      "         -0.0225, -0.3240],\n",
      "        [-0.1384,  0.0500,  0.0348,  0.0262, -0.1050, -0.1560,  0.0187, -0.1322,\n",
      "          0.0552, -0.3373]], grad_fn=<AddmmBackward0>)\n",
      "Model structure: NeuralNetwork(\n",
      "  (flatten): Flatten(start_dim=1, end_dim=-1)\n",
      "  (linear_relu_stack): Sequential(\n",
      "    (0): Linear(in_features=784, out_features=512, bias=True)\n",
      "    (1): ReLU()\n",
      "    (2): Linear(in_features=512, out_features=512, bias=True)\n",
      "    (3): ReLU()\n",
      "    (4): Linear(in_features=512, out_features=10, bias=True)\n",
      "  )\n",
      ")\n",
      "\n",
      "\n",
      "Layer: linear_relu_stack.0.weight | Size: torch.Size([512, 784]) | Values : tensor([[-0.0142,  0.0067, -0.0193,  ..., -0.0076,  0.0265,  0.0260],\n",
      "        [ 0.0255,  0.0144,  0.0005,  ...,  0.0018, -0.0276, -0.0145]],\n",
      "       grad_fn=<SliceBackward0>) \n",
      "\n",
      "Layer: linear_relu_stack.0.bias | Size: torch.Size([512]) | Values : tensor([-0.0179, -0.0318], grad_fn=<SliceBackward0>) \n",
      "\n",
      "Layer: linear_relu_stack.2.weight | Size: torch.Size([512, 512]) | Values : tensor([[ 0.0348, -0.0106,  0.0008,  ..., -0.0216,  0.0124,  0.0138],\n",
      "        [-0.0350,  0.0144,  0.0322,  ...,  0.0151, -0.0423,  0.0031]],\n",
      "       grad_fn=<SliceBackward0>) \n",
      "\n",
      "Layer: linear_relu_stack.2.bias | Size: torch.Size([512]) | Values : tensor([-0.0083,  0.0375], grad_fn=<SliceBackward0>) \n",
      "\n",
      "Layer: linear_relu_stack.4.weight | Size: torch.Size([10, 512]) | Values : tensor([[-4.1832e-02, -8.7218e-03,  1.7091e-02,  ...,  9.2845e-05,\n",
      "          3.3051e-02, -2.6209e-03],\n",
      "        [ 5.2410e-03,  3.2962e-02,  3.6749e-02,  ...,  1.7165e-02,\n",
      "          3.0105e-02, -2.8430e-02]], grad_fn=<SliceBackward0>) \n",
      "\n",
      "Layer: linear_relu_stack.4.bias | Size: torch.Size([10]) | Values : tensor([0.0390, 0.0123], grad_fn=<SliceBackward0>) \n",
      "\n"
     ]
    }
   ],
   "source": [
    "import os\n",
    "import torch\n",
    "from torch import nn\n",
    "from torch.utils.data import DataLoader\n",
    "from torchvision import datasets, transforms\n",
    "\n",
    "device = \"cuda\" if torch.cuda.is_available() else \"cpu\"\n",
    "print(f\"Using {device} device\")\n",
    "\n",
    "\n",
    "class NeuralNetwork(nn.Module):\n",
    "    def __init__(self):\n",
    "        super(NeuralNetwork, self).__init__()\n",
    "        self.flatten = nn.Flatten()\n",
    "        self.linear_relu_stack = nn.Sequential(\n",
    "            nn.Linear(28 * 28, 512),\n",
    "            nn.ReLU(),\n",
    "            nn.Linear(512, 512),\n",
    "            nn.ReLU(),\n",
    "            nn.Linear(512, 10),\n",
    "        )\n",
    "\n",
    "\n",
    "    def forward(self, x):\n",
    "        x = self.flatten(x)\n",
    "        logits = self.linear_relu_stack(x)\n",
    "        return logits\n",
    "\n",
    "\n",
    "model = NeuralNetwork().to(device)\n",
    "print(model)\n",
    "\n",
    "X = torch.rand(1, 28, 28, device=device)\n",
    "#print(X)\n",
    "logits = model(X)\n",
    "print(logits)\n",
    "pred_probab = nn.Softmax(dim=1)(logits)\n",
    "y_pred = pred_probab.argmax(1)\n",
    "print(f\"Predicted class: {y_pred}\")\n",
    "\n",
    "input_image = torch.rand(3, 28, 28)\n",
    "print(input_image.size())\n",
    "\n",
    "flatten = nn.Flatten()\n",
    "flat_image = flatten(input_image)\n",
    "print(flat_image.size())\n",
    "\n",
    "layer1 = nn.Linear(in_features=28 * 28, out_features=20)\n",
    "hidden1 = layer1(flat_image)\n",
    "print(hidden1.size())\n",
    "\n",
    "print(f\"Before ReLU: {hidden1}\\n\\n\")\n",
    "hidden1 = nn.ReLU()(hidden1)\n",
    "print(f\"After ReLU: {hidden1}\")\n",
    "\n",
    "seq_modules = nn.Sequential(\n",
    "    flatten,\n",
    "    layer1,\n",
    "    nn.ReLU(),\n",
    "    nn.Linear(20, 10)\n",
    ")\n",
    "input_image = torch.rand(3, 28, 28)\n",
    "logits = seq_modules(input_image)\n",
    "print(logits)\n",
    "\n",
    "print(f\"Model structure: {model}\\n\\n\")\n",
    "\n",
    "for name, param in model.named_parameters():\n",
    "    print(f\"Layer: {name} | Size: {param.size()} | Values : {param[:2]} \\n\")\n"
   ]
  },
  {
   "cell_type": "code",
   "execution_count": 1,
   "metadata": {
    "collapsed": false,
    "jupyter": {
     "outputs_hidden": false
    },
    "pycharm": {
     "name": "#%%\n"
    }
   },
   "outputs": [
    {
     "name": "stdout",
     "output_type": "stream",
     "text": [
      "[3, 4, 5]\n",
      "[3, 6, 5]\n",
      "[4, tensor([[7.6167, 5.0909, 5.2194],\n",
      "        [6.4683, 5.1758, 6.8126],\n",
      "        [6.1102, 5.2686, 6.0174],\n",
      "        [7.6010, 6.3332, 6.6491],\n",
      "        [4.8353, 5.8987, 6.5206]]), tensor([[4.9395, 3.9708, 4.9773],\n",
      "        [3.9530, 4.3572, 5.5120],\n",
      "        [5.7019, 4.8700, 4.2492],\n",
      "        [4.2081, 6.7728, 4.5183],\n",
      "        [4.7517, 5.1587, 3.0990]])]\n",
      "[4, 1, tensor([[4.9395, 3.9708, 4.9773],\n",
      "        [3.9530, 4.3572, 5.5120],\n",
      "        [5.7019, 4.8700, 4.2492],\n",
      "        [4.2081, 6.7728, 4.5183],\n",
      "        [4.7517, 5.1587, 3.0990]])] <class 'list'>)\n"
     ]
    },
    {
     "name": "stderr",
     "output_type": "stream",
     "text": [
      "H:\\deconf_TEMP\\ipykernel_14232\\1075045515.py:9: UserWarning: Failed to initialize NumPy: module compiled against API version 0x10 but this version of numpy is 0xe (Triggered internally at  ..\\torch\\csrc\\utils\\tensor_numpy.cpp:68.)\n",
      "  a[i] += torch.randn(5, 3, requires_grad=False) if i % 3 else 1\n"
     ]
    }
   ],
   "source": [
    "import torch\n",
    "\n",
    "a = [3, 4, 5]\n",
    "b = a  # a and b refer to the same list object\n",
    "print(f'{b}')\n",
    "a[1] = 6\n",
    "print(f'{b}')\n",
    "for i in range(len(a)):\n",
    "    a[i] += torch.randn(5, 3, requires_grad=False) if i % 3 else 1\n",
    "print(f'{a}')\n",
    "a[1] = 1\n",
    "print(f'{b} {type(b)})')"
   ]
  },
  {
   "cell_type": "code",
   "execution_count": 2,
   "metadata": {
    "collapsed": false,
    "jupyter": {
     "outputs_hidden": false
    },
    "pycharm": {
     "name": "#%%\n"
    }
   },
   "outputs": [
    {
     "name": "stdout",
     "output_type": "stream",
     "text": [
      "Buyers:  ['Carson Busses', 'Earl E. Byrd', 'Patty Cakes', 'Derri Anne Connecticut', 'Moe Dess', 'Leda Doggslife', 'Dan Druff', 'Al Fresco', 'Ido Hoe', 'Howie Kisses', 'Len Lease', 'Phil Meup', 'Ira Pent', 'Ben D. Rules', 'Ave Sectomy', 'Gary Shattire', 'Bobbi Soks', 'Sheila Takya', 'Rose Tattoo', 'Moe Tell']\n",
      "Prices:  ['$29.95', '$8.37', '$15.26', '$19.25', '$19.25', '$13.99', '$31.57', '$8.49', '$14.47', '$15.86', '$11.11', '$15.98', '$16.27', '$7.50', '$50.85', '$14.26', '$5.68', '$15.00', '$114.07', '$10.09']\n"
     ]
    }
   ],
   "source": [
    "import requests\n",
    "from lxml import html\n",
    "\n",
    "page = requests.get('http://econpy.pythonanywhere.com/ex/001.html')\n",
    "tree = html.fromstring(page.content)\n",
    "#This will create a list of buyers:\n",
    "buyers = tree.xpath('//div[@title=\"buyer-name\"]/text()')\n",
    "#This will create a list of prices\n",
    "prices = tree.xpath('//span[@class=\"item-price\"]/text()')\n",
    "\n",
    "print('Buyers: ', buyers)\n",
    "print('Prices: ', prices)"
   ]
  },
  {
   "cell_type": "code",
   "execution_count": 3,
   "metadata": {
    "collapsed": false,
    "jupyter": {
     "outputs_hidden": false
    },
    "pycharm": {
     "name": "#%%\n"
    }
   },
   "outputs": [
    {
     "ename": "ModuleNotFoundError",
     "evalue": "No module named 'records'",
     "output_type": "error",
     "traceback": [
      "\u001b[1;31m---------------------------------------------------------------------------\u001b[0m",
      "\u001b[1;31mModuleNotFoundError\u001b[0m                       Traceback (most recent call last)",
      "Input \u001b[1;32mIn [3]\u001b[0m, in \u001b[0;36m<cell line: 1>\u001b[1;34m()\u001b[0m\n\u001b[1;32m----> 1\u001b[0m \u001b[38;5;28;01mimport\u001b[39;00m \u001b[38;5;21;01mrecords\u001b[39;00m\n\u001b[0;32m      2\u001b[0m \u001b[38;5;28;01mimport\u001b[39;00m \u001b[38;5;21;01mpsycopg2\u001b[39;00m\n\u001b[0;32m      3\u001b[0m \u001b[38;5;28;01mimport\u001b[39;00m \u001b[38;5;21;01mtime\u001b[39;00m\n",
      "\u001b[1;31mModuleNotFoundError\u001b[0m: No module named 'records'"
     ]
    }
   ],
   "source": [
    "import records\n",
    "import psycopg2\n",
    "import time\n",
    "\n",
    "db = records.Database('postgresql://wateradmin@kilitary.xyz:5432/wateradmin2')\n",
    "items = db.query('select * from cart_items')  # or db.query_file('sqls/active-users.sql')\n",
    "for item in items:\n",
    "    print(f'{item}')\n",
    "    time.sleep(0.9)"
   ]
  },
  {
   "cell_type": "code",
   "execution_count": 4,
   "metadata": {
    "collapsed": false,
    "jupyter": {
     "outputs_hidden": false
    },
    "pycharm": {
     "name": "#%%\n"
    }
   },
   "outputs": [
    {
     "name": "stdout",
     "output_type": "stream",
     "text": [
      "w tensor([[ 0.0529, -1.2535, -0.6065],\n",
      "        [ 0.7778,  1.7929,  1.3373],\n",
      "        [-0.5502, -1.4719, -1.3781],\n",
      "        [ 1.6215,  0.3692, -1.0087],\n",
      "        [ 0.3545, -2.0619, -0.0913]], requires_grad=True) b tensor([ 1.3144, -0.5872, -0.0697], requires_grad=True) z tensor([ 3.5708, -3.2124, -1.8170], grad_fn=<AddBackward0>)\n",
      "Gradient function for z = <AddBackward0 object at 0x000001241CD67760>\n",
      "Gradient function for loss = <BinaryCrossEntropyWithLogitsBackward0 object at 0x000001241CD65E40>\n",
      "tensor([[0.3242, 0.0129, 0.0466],\n",
      "        [0.3242, 0.0129, 0.0466],\n",
      "        [0.3242, 0.0129, 0.0466],\n",
      "        [0.3242, 0.0129, 0.0466],\n",
      "        [0.3242, 0.0129, 0.0466]])\n",
      "tensor([0.3242, 0.0129, 0.0466])\n"
     ]
    }
   ],
   "source": [
    "x = torch.ones(5)  # input tensor\n",
    "y = torch.zeros(3)  # expected output\n",
    "w = torch.randn(5, 3, requires_grad=True)\n",
    "b = torch.randn(3, requires_grad=True)\n",
    "z = torch.matmul(x, w) + b\n",
    "loss = torch.nn.functional.binary_cross_entropy_with_logits(z, y)\n",
    "print(f'w {w} b {b} z {z}')\n",
    "print(f\"Gradient function for z = {z.grad_fn}\")\n",
    "print(f\"Gradient function for loss = {loss.grad_fn}\")\n",
    "\n",
    "loss.backward(retain_graph=True)\n",
    "print(w.grad)\n",
    "print(b.grad)\n"
   ]
  },
  {
   "cell_type": "code",
   "execution_count": null,
   "metadata": {
    "collapsed": false,
    "jupyter": {
     "outputs_hidden": false
    },
    "pycharm": {
     "name": "#%%\n"
    }
   },
   "outputs": [],
   "source": []
  }
 ],
 "metadata": {
  "kernelspec": {
   "display_name": "Python 3 (ipykernel)",
   "language": "python",
   "name": "python3"
  },
  "language_info": {
   "codemirror_mode": {
    "name": "ipython",
    "version": 3
   },
   "file_extension": ".py",
   "mimetype": "text/x-python",
   "name": "python",
   "nbconvert_exporter": "python",
   "pygments_lexer": "ipython3",
   "version": "3.10.4"
  }
 },
 "nbformat": 4,
 "nbformat_minor": 4
}
