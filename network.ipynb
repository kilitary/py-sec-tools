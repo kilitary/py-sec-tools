{
 "cells": [
  {
   "cell_type": "code",
   "execution_count": 1,
   "metadata": {
    "collapsed": true,
    "jupyter": {
     "outputs_hidden": true
    },
    "pycharm": {
     "name": "#%%\n"
    }
   },
   "outputs": [
    {
     "name": "stdout",
     "output_type": "stream",
     "text": [
      "Using cpu device\n",
      "NeuralNetwork(\n",
      "  (flatten): Flatten(start_dim=1, end_dim=-1)\n",
      "  (linear_relu_stack): Sequential(\n",
      "    (0): Linear(in_features=784, out_features=512, bias=True)\n",
      "    (1): ReLU()\n",
      "    (2): Linear(in_features=512, out_features=512, bias=True)\n",
      "    (3): ReLU()\n",
      "    (4): Linear(in_features=512, out_features=10, bias=True)\n",
      "  )\n",
      ")\n",
      "tensor([[ 0.0811, -0.0861, -0.1692, -0.0368,  0.1309, -0.1530,  0.0359, -0.0251,\n",
      "          0.0345,  0.0063]], grad_fn=<AddmmBackward0>)\n",
      "Predicted class: tensor([4])\n",
      "torch.Size([3, 28, 28])\n",
      "torch.Size([3, 784])\n",
      "torch.Size([3, 20])\n",
      "Before ReLU: tensor([[-0.1114,  0.1655, -0.2328,  0.2356, -0.2080,  0.1848,  0.7391, -0.2523,\n",
      "         -0.4909,  0.4529, -0.2896,  0.0791,  0.2361,  0.1119, -0.0032, -0.1394,\n",
      "          0.3215,  0.0714, -0.6342,  0.2352],\n",
      "        [-0.4608,  0.4634, -0.1448, -0.0537,  0.1184,  0.1252,  0.3527, -0.2643,\n",
      "         -0.4075,  0.4259,  0.0252, -0.0348,  0.5428, -0.0508,  0.3134, -0.1955,\n",
      "          0.5360, -0.1651, -0.3349,  0.2624],\n",
      "        [-0.2601,  0.4570, -0.2226, -0.1577, -0.0723, -0.0658,  0.3728, -0.4860,\n",
      "         -0.4930,  0.8380,  0.0385, -0.0763,  0.5888, -0.2073,  0.1279, -0.3558,\n",
      "          0.4083, -0.1085, -0.6763,  0.2843]], grad_fn=<AddmmBackward0>)\n",
      "\n",
      "\n",
      "After ReLU: tensor([[0.0000, 0.1655, 0.0000, 0.2356, 0.0000, 0.1848, 0.7391, 0.0000, 0.0000,\n",
      "         0.4529, 0.0000, 0.0791, 0.2361, 0.1119, 0.0000, 0.0000, 0.3215, 0.0714,\n",
      "         0.0000, 0.2352],\n",
      "        [0.0000, 0.4634, 0.0000, 0.0000, 0.1184, 0.1252, 0.3527, 0.0000, 0.0000,\n",
      "         0.4259, 0.0252, 0.0000, 0.5428, 0.0000, 0.3134, 0.0000, 0.5360, 0.0000,\n",
      "         0.0000, 0.2624],\n",
      "        [0.0000, 0.4570, 0.0000, 0.0000, 0.0000, 0.0000, 0.3728, 0.0000, 0.0000,\n",
      "         0.8380, 0.0385, 0.0000, 0.5888, 0.0000, 0.1279, 0.0000, 0.4083, 0.0000,\n",
      "         0.0000, 0.2843]], grad_fn=<ReluBackward0>)\n",
      "tensor([[ 0.0687, -0.1253, -0.1330, -0.1023,  0.0948, -0.0365,  0.1508, -0.2346,\n",
      "          0.2625, -0.0041],\n",
      "        [ 0.1927, -0.1732, -0.2759, -0.1397, -0.0207, -0.1246,  0.0624, -0.1697,\n",
      "          0.2839,  0.1579],\n",
      "        [ 0.2192, -0.0391, -0.0606, -0.0184,  0.0414, -0.0897,  0.1575, -0.3200,\n",
      "          0.2691,  0.0978]], grad_fn=<AddmmBackward0>)\n",
      "Model structure: NeuralNetwork(\n",
      "  (flatten): Flatten(start_dim=1, end_dim=-1)\n",
      "  (linear_relu_stack): Sequential(\n",
      "    (0): Linear(in_features=784, out_features=512, bias=True)\n",
      "    (1): ReLU()\n",
      "    (2): Linear(in_features=512, out_features=512, bias=True)\n",
      "    (3): ReLU()\n",
      "    (4): Linear(in_features=512, out_features=10, bias=True)\n",
      "  )\n",
      ")\n",
      "\n",
      "\n",
      "Layer: linear_relu_stack.0.weight | Size: torch.Size([512, 784]) | Values : tensor([[ 3.5297e-02, -5.8510e-04,  8.0998e-04,  ...,  1.1961e-02,\n",
      "         -2.8903e-02, -1.6467e-02],\n",
      "        [ 2.4313e-02, -1.5517e-02, -3.3250e-02,  ..., -4.3802e-05,\n",
      "          1.9648e-02, -1.3653e-03]], grad_fn=<SliceBackward0>) \n",
      "\n",
      "Layer: linear_relu_stack.0.bias | Size: torch.Size([512]) | Values : tensor([ 0.0080, -0.0317], grad_fn=<SliceBackward0>) \n",
      "\n",
      "Layer: linear_relu_stack.2.weight | Size: torch.Size([512, 512]) | Values : tensor([[ 0.0314, -0.0427, -0.0085,  ..., -0.0128, -0.0036,  0.0094],\n",
      "        [-0.0401,  0.0229,  0.0109,  ..., -0.0300, -0.0298, -0.0269]],\n",
      "       grad_fn=<SliceBackward0>) \n",
      "\n",
      "Layer: linear_relu_stack.2.bias | Size: torch.Size([512]) | Values : tensor([-0.0195,  0.0413], grad_fn=<SliceBackward0>) \n",
      "\n",
      "Layer: linear_relu_stack.4.weight | Size: torch.Size([10, 512]) | Values : tensor([[ 0.0051, -0.0346,  0.0406,  ..., -0.0102,  0.0429, -0.0104],\n",
      "        [ 0.0343,  0.0212, -0.0234,  ..., -0.0078, -0.0064,  0.0114]],\n",
      "       grad_fn=<SliceBackward0>) \n",
      "\n",
      "Layer: linear_relu_stack.4.bias | Size: torch.Size([10]) | Values : tensor([ 0.0273, -0.0102], grad_fn=<SliceBackward0>) \n",
      "\n"
     ]
    }
   ],
   "source": [
    "import os\n",
    "import torch\n",
    "from torch import nn\n",
    "from torch.utils.data import DataLoader\n",
    "from torchvision import datasets, transforms\n",
    "\n",
    "device = \"cuda\" if torch.cuda.is_available() else \"cpu\"\n",
    "print(f\"Using {device} device\")\n",
    "\n",
    "class NeuralNetwork(nn.Module):\n",
    "\n",
    "    def __init__(self):\n",
    "        super(NeuralNetwork, self).__init__()\n",
    "        self.flatten = nn.Flatten()\n",
    "        self.linear_relu_stack = nn.Sequential(\n",
    "            nn.Linear(28 * 28, 512),\n",
    "            nn.ReLU(),\n",
    "            nn.Linear(512, 512),\n",
    "            nn.ReLU(),\n",
    "            nn.Linear(512, 10),\n",
    "        )\n",
    "\n",
    "    def forward(self, x):\n",
    "        x = self.flatten(x)\n",
    "        logits = self.linear_relu_stack(x)\n",
    "        return logits\n",
    "\n",
    "model = NeuralNetwork().to(device)\n",
    "print(model)\n",
    "\n",
    "X = torch.rand(1, 28, 28, device=device)\n",
    "#print(X)\n",
    "logits = model(X)\n",
    "print(logits)\n",
    "pred_probab = nn.Softmax(dim=1)(logits)\n",
    "y_pred = pred_probab.argmax(1)\n",
    "print(f\"Predicted class: {y_pred}\")\n",
    "\n",
    "input_image = torch.rand(3, 28, 28)\n",
    "print(input_image.size())\n",
    "\n",
    "flatten = nn.Flatten()\n",
    "flat_image = flatten(input_image)\n",
    "print(flat_image.size())\n",
    "\n",
    "layer1 = nn.Linear(in_features=28 * 28, out_features=20)\n",
    "hidden1 = layer1(flat_image)\n",
    "print(hidden1.size())\n",
    "\n",
    "print(f\"Before ReLU: {hidden1}\\n\\n\")\n",
    "hidden1 = nn.ReLU()(hidden1)\n",
    "print(f\"After ReLU: {hidden1}\")\n",
    "\n",
    "seq_modules = nn.Sequential(\n",
    "    flatten,\n",
    "    layer1,\n",
    "    nn.ReLU(),\n",
    "    nn.Linear(20, 10)\n",
    ")\n",
    "input_image = torch.rand(3, 28, 28)\n",
    "logits = seq_modules(input_image)\n",
    "print(logits)\n",
    "\n",
    "print(f\"Model structure: {model}\\n\\n\")\n",
    "\n",
    "for name, param in model.named_parameters():\n",
    "    print(f\"Layer: {name} | Size: {param.size()} | Values : {param[:2]} \\n\")\n"
   ]
  },
  {
   "cell_type": "code",
   "execution_count": 7,
   "metadata": {
    "collapsed": false,
    "jupyter": {
     "outputs_hidden": false
    },
    "pycharm": {
     "name": "#%%\n"
    }
   },
   "outputs": [
    {
     "name": "stdout",
     "output_type": "stream",
     "text": [
      "[3, 4, 5]\n",
      "[3, 6, 5]\n",
      "[4, tensor([[6.2407, 4.3074, 6.6834],\n",
      "        [6.2378, 5.3191, 7.7576],\n",
      "        [6.1277, 6.4511, 6.4315],\n",
      "        [7.3500, 6.7342, 4.6958],\n",
      "        [6.6259, 6.1049, 4.8670]]), tensor([[4.2752, 6.3827, 4.9688],\n",
      "        [4.0993, 5.7190, 8.5414],\n",
      "        [4.7677, 5.6207, 6.5143],\n",
      "        [5.6958, 4.6735, 6.8876],\n",
      "        [4.1779, 3.8175, 5.0746]])]\n",
      "[4, 1, tensor([[4.2752, 6.3827, 4.9688],\n",
      "        [4.0993, 5.7190, 8.5414],\n",
      "        [4.7677, 5.6207, 6.5143],\n",
      "        [5.6958, 4.6735, 6.8876],\n",
      "        [4.1779, 3.8175, 5.0746]])] <class 'list'>)\n",
      "2\n"
     ]
    }
   ],
   "source": [
    "import torch\n",
    "\n",
    "a = [3, 4, 5]\n",
    "b = a  # a and b refer to the same list object\n",
    "print(f'{b}')\n",
    "a[1] = 6\n",
    "print(f'{b}')\n",
    "for i in range(len(a)):\n",
    "    a[i] += torch.randn(5, 3, requires_grad=False) if i % 3 else 1\n",
    "print(f'{a}')\n",
    "a[1] = 1\n",
    "print(f'{b} {type(b)})')\n",
    "\n",
    "a = 4\n",
    "b = a // 2\n",
    "print(b)"
   ]
  },
  {
   "cell_type": "code",
   "execution_count": 4,
   "metadata": {
    "collapsed": false,
    "jupyter": {
     "outputs_hidden": false
    },
    "pycharm": {
     "name": "#%%\n"
    }
   },
   "outputs": [
    {
     "name": "stdout",
     "output_type": "stream",
     "text": [
      "(b'\\n<html>\\n    <head>\\n        <title>Something went wrong :-(</title>\\n     '\n",
      " b'   <link href=\"https://www.pythonanywhere.com/static/bootstrap/css/bootstrap'\n",
      " b'.css\" rel=\"stylesheet\" media=\"screen\" type=\"text/css\">\\n        <style>\\n '\n",
      " b'           body {\\n                font-family: Helvetica, Arial, sans-se'\n",
      " b'rif;\\n                width: 500px;\\n                margin-left: auto;\\n  '\n",
      " b'              margin-right: auto;\\n                margin-top: 20px;\\n    '\n",
      " b'        }\\n\\n            iframe {\\n                width: 100%;\\n           '\n",
      " b'     height: 100%;\\n                border: none;\\n            }\\n        <'\n",
      " b'/style>\\n    </head>\\n\\n    <body>\\n        <div class=\"main\">\\n        <'\n",
      " b'div class=\"banner\">\\n            <h1>Something went wrong :-(</h1>\\n\\n     '\n",
      " b'       <p>\\n            Something went wrong while trying to load this we'\n",
      " b'bsite;\\n            please try again later.\\n            </p>\\n\\n           '\n",
      " b' <p>\\n            If it is your site, you should check your logs\\n        '\n",
      " b'    to determine what the problem is.\\n            </p>\\n\\n        </div>\\n '\n",
      " b'       </div>\\n        <iframe name=\"error-insert\" src=\"//www.pythonanywh'\n",
      " b'ere.com/error_insert/econpy.pythonanywhere.com\">\\n        </iframe>\\n    <'\n",
      " b'/body>\\n</html>\\n')\n",
      "Buyers:  []\n",
      "Prices:  []\n"
     ]
    }
   ],
   "source": [
    "import requests\n",
    "from lxml import html\n",
    "import pprint\n",
    "\n",
    "pp = pprint.PrettyPrinter(indent=4)\n",
    "\n",
    "page = requests.get('http://econpy.pythonanywhere.com/ex/001.html')\n",
    "pprint.pprint(page.content)\n",
    "tree = html.fromstring(page.content)\n",
    "#This will create a list of buyers:\n",
    "buyers = tree.xpath('//div[@title=\"buyer-name\"]/text()')\n",
    "#This will create a list of prices\n",
    "prices = tree.xpath('//span[@class=\"item-price\"]/text()')\n",
    "\n",
    "print('Buyers: ', buyers)\n",
    "print('Prices: ', prices)"
   ]
  },
  {
   "cell_type": "code",
   "execution_count": 3,
   "metadata": {
    "collapsed": false,
    "jupyter": {
     "outputs_hidden": false
    },
    "pycharm": {
     "name": "#%%\n"
    }
   },
   "outputs": [
    {
     "ename": "ModuleNotFoundError",
     "evalue": "No module named 'records'",
     "output_type": "error",
     "traceback": [
      "\u001B[1;31m---------------------------------------------------------------------------\u001B[0m",
      "\u001B[1;31mModuleNotFoundError\u001B[0m                       Traceback (most recent call last)",
      "Input \u001B[1;32mIn [3]\u001B[0m, in \u001B[0;36m<cell line: 1>\u001B[1;34m()\u001B[0m\n\u001B[1;32m----> 1\u001B[0m \u001B[38;5;28;01mimport\u001B[39;00m \u001B[38;5;21;01mrecords\u001B[39;00m\n\u001B[0;32m      2\u001B[0m \u001B[38;5;28;01mimport\u001B[39;00m \u001B[38;5;21;01mpsycopg2\u001B[39;00m\n\u001B[0;32m      3\u001B[0m \u001B[38;5;28;01mimport\u001B[39;00m \u001B[38;5;21;01mtime\u001B[39;00m\n",
      "\u001B[1;31mModuleNotFoundError\u001B[0m: No module named 'records'"
     ]
    }
   ],
   "source": [
    "import records\n",
    "import psycopg2\n",
    "import time\n",
    "\n",
    "db = records.Database('postgresql://wateradmin@kilitary.xyz:5432/wateradmin2')\n",
    "items = db.query('select * from cart_items')  # or db.query_file('sqls/active-users.sql')\n",
    "for item in items:\n",
    "    print(f'{item}')\n",
    "    time.sleep(0.9)"
   ]
  },
  {
   "cell_type": "code",
   "execution_count": 9,
   "metadata": {
    "collapsed": false,
    "jupyter": {
     "outputs_hidden": false
    },
    "pycharm": {
     "name": "#%%\n"
    }
   },
   "outputs": [
    {
     "name": "stdout",
     "output_type": "stream",
     "text": [
      "w tensor([[-0.6661, -2.1577,  0.7268],\n",
      "        [ 0.2644, -0.1757,  0.0706],\n",
      "        [-0.7501, -1.8445, -1.3773],\n",
      "        [ 1.8543, -0.9306, -1.2281],\n",
      "        [ 1.7637, -0.6242,  0.0769]], requires_grad=True) b tensor([1.4208, 0.2189, 1.6642], requires_grad=True) z tensor([ 3.8870, -5.5139, -0.0668], grad_fn=<AddBackward0>)\n",
      "Gradient function for z = <AddBackward0 object at 0x00000294742B7D00>\n",
      "Gradient function for loss = <BinaryCrossEntropyWithLogitsBackward0 object at 0x0000029473F56DC0>\n",
      "tensor([[0.3266, 0.0013, 0.1611],\n",
      "        [0.3266, 0.0013, 0.1611],\n",
      "        [0.3266, 0.0013, 0.1611],\n",
      "        [0.3266, 0.0013, 0.1611],\n",
      "        [0.3266, 0.0013, 0.1611]])\n",
      "tensor([0.3266, 0.0013, 0.1611])\n"
     ]
    }
   ],
   "source": [
    "x = torch.ones(5)  # input tensor\n",
    "y = torch.zeros(3)  # expected output\n",
    "w = torch.randn(5, 3, requires_grad=True)\n",
    "b = torch.randn(3, requires_grad=True)\n",
    "z = torch.matmul(x, w) + b\n",
    "loss = torch.nn.functional.binary_cross_entropy_with_logits(z, y)\n",
    "print(f'w {w} b {b} z {z}')\n",
    "print(f\"Gradient function for z = {z.grad_fn}\")\n",
    "print(f\"Gradient function for loss = {loss.grad_fn}\")\n",
    "\n",
    "loss.backward(retain_graph=True)\n",
    "print(w.grad)\n",
    "print(b.grad)\n"
   ]
  }
 ],
 "metadata": {
  "kernelspec": {
   "display_name": "Python 3 (ipykernel)",
   "language": "python",
   "name": "python3"
  },
  "language_info": {
   "codemirror_mode": {
    "name": "ipython",
    "version": 3
   },
   "file_extension": ".py",
   "mimetype": "text/x-python",
   "name": "python",
   "nbconvert_exporter": "python",
   "pygments_lexer": "ipython3",
   "version": "3.10.4"
  }
 },
 "nbformat": 4,
 "nbformat_minor": 4
}