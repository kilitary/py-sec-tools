{
 "cells": [
  {
   "cell_type": "code",
   "execution_count": 1,
   "metadata": {
    "collapsed": true,
    "jupyter": {
     "outputs_hidden": true
    },
    "pycharm": {
     "name": "#%%\n"
    }
   },
   "outputs": [
    {
     "name": "stdout",
     "output_type": "stream",
     "text": [
      "Using cpu device\n",
      "NeuralNetwork(\n",
      "  (flatten): Flatten(start_dim=1, end_dim=-1)\n",
      "  (linear_relu_stack): Sequential(\n",
      "    (0): Linear(in_features=784, out_features=512, bias=True)\n",
      "    (1): ReLU()\n",
      "    (2): Linear(in_features=512, out_features=512, bias=True)\n",
      "    (3): ReLU()\n",
      "    (4): Linear(in_features=512, out_features=10, bias=True)\n",
      "  )\n",
      ")\n",
      "tensor([[ 0.0084, -0.0305, -0.0800, -0.0416,  0.0549,  0.0153,  0.0442, -0.0622,\n",
      "         -0.1844, -0.0276]], grad_fn=<AddmmBackward0>)\n",
      "Predicted class: tensor([4])\n",
      "torch.Size([3, 28, 28])\n",
      "torch.Size([3, 784])\n",
      "torch.Size([3, 20])\n",
      "Before ReLU: tensor([[ 0.6581,  0.0909,  0.1937,  0.1492, -0.6186, -0.1916,  0.1226,  0.1295,\n",
      "          0.0106,  0.2460,  0.5054,  0.1215,  0.4188, -0.1020,  0.2090, -0.0848,\n",
      "          0.1614,  0.5590,  0.4322, -0.0884],\n",
      "        [ 0.6377,  0.4543, -0.0736, -0.0912, -0.2571, -0.3899,  0.5005,  0.1001,\n",
      "         -0.1586,  0.3095,  0.3667,  0.1596,  0.2056, -0.2402,  0.0564, -0.2104,\n",
      "          0.3349,  0.5859,  0.3322,  0.0144],\n",
      "        [ 0.3396,  0.0403,  0.1182,  0.0240, -0.2380, -0.4954,  0.2580,  0.2099,\n",
      "         -0.0755,  0.5118,  0.2430,  0.2655,  0.1220, -0.3479,  0.1568, -0.4087,\n",
      "          0.2329,  0.6818,  0.5791, -0.0482]], grad_fn=<AddmmBackward0>)\n",
      "\n",
      "\n",
      "After ReLU: tensor([[0.6581, 0.0909, 0.1937, 0.1492, 0.0000, 0.0000, 0.1226, 0.1295, 0.0106,\n",
      "         0.2460, 0.5054, 0.1215, 0.4188, 0.0000, 0.2090, 0.0000, 0.1614, 0.5590,\n",
      "         0.4322, 0.0000],\n",
      "        [0.6377, 0.4543, 0.0000, 0.0000, 0.0000, 0.0000, 0.5005, 0.1001, 0.0000,\n",
      "         0.3095, 0.3667, 0.1596, 0.2056, 0.0000, 0.0564, 0.0000, 0.3349, 0.5859,\n",
      "         0.3322, 0.0144],\n",
      "        [0.3396, 0.0403, 0.1182, 0.0240, 0.0000, 0.0000, 0.2580, 0.2099, 0.0000,\n",
      "         0.5118, 0.2430, 0.2655, 0.1220, 0.0000, 0.1568, 0.0000, 0.2329, 0.6818,\n",
      "         0.5791, 0.0000]], grad_fn=<ReluBackward0>)\n",
      "tensor([[-0.0213,  0.1974,  0.5406,  0.1495,  0.1599,  0.0959,  0.0527,  0.1287,\n",
      "         -0.0622,  0.0262],\n",
      "        [-0.1918,  0.4065,  0.3077,  0.1618, -0.1094,  0.2294,  0.0347, -0.0325,\n",
      "         -0.1050,  0.0058],\n",
      "        [-0.1231,  0.1436,  0.3704,  0.2129, -0.0665,  0.0827, -0.0223, -0.0728,\n",
      "         -0.1524,  0.1607]], grad_fn=<AddmmBackward0>)\n",
      "Model structure: NeuralNetwork(\n",
      "  (flatten): Flatten(start_dim=1, end_dim=-1)\n",
      "  (linear_relu_stack): Sequential(\n",
      "    (0): Linear(in_features=784, out_features=512, bias=True)\n",
      "    (1): ReLU()\n",
      "    (2): Linear(in_features=512, out_features=512, bias=True)\n",
      "    (3): ReLU()\n",
      "    (4): Linear(in_features=512, out_features=10, bias=True)\n",
      "  )\n",
      ")\n",
      "\n",
      "\n",
      "Layer: linear_relu_stack.0.weight | Size: torch.Size([512, 784]) | Values : tensor([[ 0.0182,  0.0083,  0.0028,  ...,  0.0212, -0.0038,  0.0225],\n",
      "        [ 0.0031,  0.0102, -0.0126,  ...,  0.0113, -0.0209,  0.0135]],\n",
      "       grad_fn=<SliceBackward0>) \n",
      "\n",
      "Layer: linear_relu_stack.0.bias | Size: torch.Size([512]) | Values : tensor([ 0.0175, -0.0104], grad_fn=<SliceBackward0>) \n",
      "\n",
      "Layer: linear_relu_stack.2.weight | Size: torch.Size([512, 512]) | Values : tensor([[ 1.2469e-05, -2.7673e-02,  1.8307e-02,  ...,  2.5558e-02,\n",
      "          1.6271e-02, -2.3418e-02],\n",
      "        [-7.9963e-03,  9.1825e-03,  7.6628e-03,  ..., -2.9595e-03,\n",
      "         -3.2845e-02,  1.1366e-02]], grad_fn=<SliceBackward0>) \n",
      "\n",
      "Layer: linear_relu_stack.2.bias | Size: torch.Size([512]) | Values : tensor([ 0.0043, -0.0414], grad_fn=<SliceBackward0>) \n",
      "\n",
      "Layer: linear_relu_stack.4.weight | Size: torch.Size([10, 512]) | Values : tensor([[-0.0295,  0.0083, -0.0130,  ..., -0.0298,  0.0076, -0.0047],\n",
      "        [-0.0280, -0.0187, -0.0099,  ..., -0.0347,  0.0234,  0.0136]],\n",
      "       grad_fn=<SliceBackward0>) \n",
      "\n",
      "Layer: linear_relu_stack.4.bias | Size: torch.Size([10]) | Values : tensor([0.0227, 0.0041], grad_fn=<SliceBackward0>) \n",
      "\n"
     ]
    }
   ],
   "source": [
    "import os\n",
    "import torch\n",
    "from torch import nn\n",
    "from torch.utils.data import DataLoader\n",
    "from torchvision import datasets, transforms\n",
    "\n",
    "\n",
    "device = \"cuda\" if torch.cuda.is_available() else \"cpu\"\n",
    "print(f\"Using {device} device\")\n",
    "\n",
    "class NeuralNetwork(nn.Module):\n",
    "\n",
    "    def __init__(self):\n",
    "        super(NeuralNetwork, self).__init__()\n",
    "        self.flatten = nn.Flatten()\n",
    "        self.linear_relu_stack = nn.Sequential(\n",
    "            nn.Linear(28 * 28, 512),\n",
    "            nn.ReLU(),\n",
    "            nn.Linear(512, 512),\n",
    "            nn.ReLU(),\n",
    "            nn.Linear(512, 10),\n",
    "        )\n",
    "\n",
    "    def forward(self, x):\n",
    "        x = self.flatten(x)\n",
    "        logits = self.linear_relu_stack(x)\n",
    "        return logits\n",
    "\n",
    "model = NeuralNetwork().to(device)\n",
    "print(model)\n",
    "\n",
    "X = torch.rand(1, 28, 28, device=device)\n",
    "#print(X)\n",
    "logits = model(X)\n",
    "print(logits)\n",
    "pred_probab = nn.Softmax(dim=1)(logits)\n",
    "y_pred = pred_probab.argmax(1)\n",
    "print(f\"Predicted class: {y_pred}\")\n",
    "\n",
    "input_image = torch.rand(3, 28, 28)\n",
    "print(input_image.size())\n",
    "\n",
    "flatten = nn.Flatten()\n",
    "flat_image = flatten(input_image)\n",
    "print(flat_image.size())\n",
    "\n",
    "layer1 = nn.Linear(in_features=28 * 28, out_features=20)\n",
    "hidden1 = layer1(flat_image)\n",
    "print(hidden1.size())\n",
    "\n",
    "print(f\"Before ReLU: {hidden1}\\n\\n\")\n",
    "hidden1 = nn.ReLU()(hidden1)\n",
    "print(f\"After ReLU: {hidden1}\")\n",
    "\n",
    "seq_modules = nn.Sequential(\n",
    "    flatten,\n",
    "    layer1,\n",
    "    nn.ReLU(),\n",
    "    nn.Linear(20, 10)\n",
    ")\n",
    "input_image = torch.rand(3, 28, 28)\n",
    "logits = seq_modules(input_image)\n",
    "print(logits)\n",
    "\n",
    "print(f\"Model structure: {model}\\n\\n\")\n",
    "\n",
    "for name, param in model.named_parameters():\n",
    "    print(f\"Layer: {name} | Size: {param.size()} | Values : {param[:2]} \\n\")\n"
   ]
  },
  {
   "cell_type": "code",
   "execution_count": 2,
   "metadata": {
    "collapsed": false,
    "jupyter": {
     "outputs_hidden": false
    },
    "pycharm": {
     "name": "#%%\n"
    }
   },
   "outputs": [
    {
     "name": "stdout",
     "output_type": "stream",
     "text": [
      "[3, 4, 5]\n",
      "[3, 6, 5]\n",
      "[4, tensor([[6.0759, 4.7966, 5.0367],\n",
      "        [4.8647, 7.3872, 5.3695],\n",
      "        [5.5661, 5.5773, 2.8182],\n",
      "        [4.8108, 6.5595, 4.2878],\n",
      "        [5.3704, 6.0497, 4.3285]]), tensor([[5.1813, 3.4635, 5.1789],\n",
      "        [4.9464, 6.3472, 6.5660],\n",
      "        [5.3423, 6.0602, 4.8125],\n",
      "        [5.8789, 3.3052, 3.8752],\n",
      "        [3.4828, 3.8761, 3.9548]])]\n",
      "[4, 1, tensor([[5.1813, 3.4635, 5.1789],\n",
      "        [4.9464, 6.3472, 6.5660],\n",
      "        [5.3423, 6.0602, 4.8125],\n",
      "        [5.8789, 3.3052, 3.8752],\n",
      "        [3.4828, 3.8761, 3.9548]])] <class 'list'>)\n"
     ]
    }
   ],
   "source": [
    "import torch\n",
    "\n",
    "\n",
    "a = [3, 4, 5]\n",
    "b = a  # a and b refer to the same list object\n",
    "print(f'{b}')\n",
    "a[1] = 6\n",
    "print(f'{b}')\n",
    "for i in range(len(a)):\n",
    "    a[i] += torch.randn(5, 3, requires_grad=False) if i % 3 else 1\n",
    "print(f'{a}')\n",
    "a[1] = 1\n",
    "print(f'{b} {type(b)})')"
   ]
  },
  {
   "cell_type": "code",
   "execution_count": 2,
   "metadata": {
    "collapsed": false,
    "jupyter": {
     "outputs_hidden": false
    },
    "pycharm": {
     "name": "#%%\n"
    }
   },
   "outputs": [
    {
     "name": "stdout",
     "output_type": "stream",
     "text": [
      "Buyers:  ['Carson Busses', 'Earl E. Byrd', 'Patty Cakes', 'Derri Anne Connecticut', 'Moe Dess', 'Leda Doggslife', 'Dan Druff', 'Al Fresco', 'Ido Hoe', 'Howie Kisses', 'Len Lease', 'Phil Meup', 'Ira Pent', 'Ben D. Rules', 'Ave Sectomy', 'Gary Shattire', 'Bobbi Soks', 'Sheila Takya', 'Rose Tattoo', 'Moe Tell']\n",
      "Prices:  ['$29.95', '$8.37', '$15.26', '$19.25', '$19.25', '$13.99', '$31.57', '$8.49', '$14.47', '$15.86', '$11.11', '$15.98', '$16.27', '$7.50', '$50.85', '$14.26', '$5.68', '$15.00', '$114.07', '$10.09']\n"
     ]
    }
   ],
   "source": [
    "import requests\n",
    "from lxml import html\n",
    "\n",
    "\n",
    "page = requests.get('http://econpy.pythonanywhere.com/ex/001.html')\n",
    "tree = html.fromstring(page.content)\n",
    "#This will create a list of buyers:\n",
    "buyers = tree.xpath('//div[@title=\"buyer-name\"]/text()')\n",
    "#This will create a list of prices\n",
    "prices = tree.xpath('//span[@class=\"item-price\"]/text()')\n",
    "\n",
    "print('Buyers: ', buyers)\n",
    "print('Prices: ', prices)"
   ]
  },
  {
   "cell_type": "code",
   "execution_count": 3,
   "metadata": {
    "collapsed": false,
    "jupyter": {
     "outputs_hidden": false
    },
    "pycharm": {
     "name": "#%%\n"
    }
   },
   "outputs": [
    {
     "ename": "ModuleNotFoundError",
     "evalue": "No module named 'records'",
     "output_type": "error",
     "traceback": [
      "\u001B[1;31m---------------------------------------------------------------------------\u001B[0m",
      "\u001B[1;31mModuleNotFoundError\u001B[0m                       Traceback (most recent call last)",
      "Input \u001B[1;32mIn [3]\u001B[0m, in \u001B[0;36m<cell line: 1>\u001B[1;34m()\u001B[0m\n\u001B[1;32m----> 1\u001B[0m \u001B[38;5;28;01mimport\u001B[39;00m \u001B[38;5;21;01mrecords\u001B[39;00m\n\u001B[0;32m      2\u001B[0m \u001B[38;5;28;01mimport\u001B[39;00m \u001B[38;5;21;01mpsycopg2\u001B[39;00m\n\u001B[0;32m      3\u001B[0m \u001B[38;5;28;01mimport\u001B[39;00m \u001B[38;5;21;01mtime\u001B[39;00m\n",
      "\u001B[1;31mModuleNotFoundError\u001B[0m: No module named 'records'"
     ]
    }
   ],
   "source": [
    "import records\n",
    "import psycopg2\n",
    "import time\n",
    "\n",
    "\n",
    "db = records.Database('postgresql://wateradmin@kilitary.xyz:5432/wateradmin2')\n",
    "items = db.query('select * from cart_items')  # or db.query_file('sqls/active-users.sql')\n",
    "for item in items:\n",
    "    print(f'{item}')\n",
    "    time.sleep(0.9)"
   ]
  },
  {
   "cell_type": "code",
   "execution_count": 4,
   "metadata": {
    "collapsed": false,
    "jupyter": {
     "outputs_hidden": false
    },
    "pycharm": {
     "name": "#%%\n"
    }
   },
   "outputs": [
    {
     "name": "stdout",
     "output_type": "stream",
     "text": [
      "w tensor([[ 0.0529, -1.2535, -0.6065],\n",
      "        [ 0.7778,  1.7929,  1.3373],\n",
      "        [-0.5502, -1.4719, -1.3781],\n",
      "        [ 1.6215,  0.3692, -1.0087],\n",
      "        [ 0.3545, -2.0619, -0.0913]], requires_grad=True) b tensor([ 1.3144, -0.5872, -0.0697], requires_grad=True) z tensor([ 3.5708, -3.2124, -1.8170], grad_fn=<AddBackward0>)\n",
      "Gradient function for z = <AddBackward0 object at 0x000001241CD67760>\n",
      "Gradient function for loss = <BinaryCrossEntropyWithLogitsBackward0 object at 0x000001241CD65E40>\n",
      "tensor([[0.3242, 0.0129, 0.0466],\n",
      "        [0.3242, 0.0129, 0.0466],\n",
      "        [0.3242, 0.0129, 0.0466],\n",
      "        [0.3242, 0.0129, 0.0466],\n",
      "        [0.3242, 0.0129, 0.0466]])\n",
      "tensor([0.3242, 0.0129, 0.0466])\n"
     ]
    }
   ],
   "source": [
    "x = torch.ones(5)  # input tensor\n",
    "y = torch.zeros(3)  # expected output\n",
    "w = torch.randn(5, 3, requires_grad=True)\n",
    "b = torch.randn(3, requires_grad=True)\n",
    "z = torch.matmul(x, w) + b\n",
    "loss = torch.nn.functional.binary_cross_entropy_with_logits(z, y)\n",
    "print(f'w {w} b {b} z {z}')\n",
    "print(f\"Gradient function for z = {z.grad_fn}\")\n",
    "print(f\"Gradient function for loss = {loss.grad_fn}\")\n",
    "\n",
    "loss.backward(retain_graph=True)\n",
    "print(w.grad)\n",
    "print(b.grad)\n"
   ]
  },
  {
   "cell_type": "code",
   "execution_count": null,
   "metadata": {
    "collapsed": false,
    "jupyter": {
     "outputs_hidden": false
    },
    "pycharm": {
     "name": "#%%\n"
    }
   },
   "outputs": [],
   "source": []
  }
 ],
 "metadata": {
  "kernelspec": {
   "display_name": "Python 3 (ipykernel)",
   "language": "python",
   "name": "python3"
  },
  "language_info": {
   "codemirror_mode": {
    "name": "ipython",
    "version": 3
   },
   "file_extension": ".py",
   "mimetype": "text/x-python",
   "name": "python",
   "nbconvert_exporter": "python",
   "pygments_lexer": "ipython3",
   "version": "3.10.4"
  }
 },
 "nbformat": 4,
 "nbformat_minor": 4
}