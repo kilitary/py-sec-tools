{
 "cells": [
  {
   "cell_type": "code",
   "execution_count": 1,
   "metadata": {
    "collapsed": true,
    "jupyter": {
     "outputs_hidden": true
    },
    "pycharm": {
     "name": "#%%\n"
    }
   },
   "outputs": [
    {
     "name": "stdout",
     "output_type": "stream",
     "text": [
      "Using cpu device\n",
      "NeuralNetwork(\n",
      "  (flatten): Flatten(start_dim=1, end_dim=-1)\n",
      "  (linear_relu_stack): Sequential(\n",
      "    (0): Linear(in_features=784, out_features=512, bias=True)\n",
      "    (1): ReLU()\n",
      "    (2): Linear(in_features=512, out_features=512, bias=True)\n",
      "    (3): ReLU()\n",
      "    (4): Linear(in_features=512, out_features=10, bias=True)\n",
      "  )\n",
      ")\n",
      "tensor([[-0.0551,  0.0902,  0.1109, -0.0778, -0.1523, -0.0747, -0.0842,  0.0629,\n",
      "         -0.0452,  0.0109]], grad_fn=<AddmmBackward0>)\n",
      "Predicted class: tensor([2])\n",
      "torch.Size([3, 28, 28])\n",
      "torch.Size([3, 784])\n",
      "torch.Size([3, 20])\n",
      "Before ReLU: tensor([[-1.4302e-01,  9.6974e-02,  3.4681e-02, -1.5573e-01, -7.3948e-01,\n",
      "         -1.8961e-01, -8.1212e-01,  4.6736e-01,  9.1681e-01,  5.3387e-03,\n",
      "         -3.9114e-01, -4.4701e-01,  2.2905e-02,  1.8201e-01, -2.1667e-04,\n",
      "         -5.2165e-01, -2.0063e-01, -2.4497e-01, -1.0486e-01,  9.0448e-02],\n",
      "        [-3.8301e-01, -8.3009e-02, -1.2984e-01, -2.6811e-01, -4.3271e-01,\n",
      "          6.0974e-02, -7.7093e-01,  3.8469e-01,  3.3676e-01, -3.5105e-01,\n",
      "         -1.3346e-01, -3.1853e-01,  1.4506e-02,  2.5198e-01, -1.2848e-01,\n",
      "         -2.3287e-01, -8.3617e-02, -2.7057e-01,  3.0106e-02,  3.2149e-01],\n",
      "        [ 8.3036e-02,  1.3725e-01, -9.0118e-02, -1.8418e-01, -7.6127e-02,\n",
      "          1.1304e-01, -5.6392e-01,  2.6185e-01,  5.2252e-01, -3.4640e-01,\n",
      "         -2.4118e-01, -2.5026e-01, -7.8490e-02,  3.8452e-01,  1.7805e-01,\n",
      "         -3.8377e-01, -4.5531e-03, -2.2726e-01,  2.4766e-01, -4.1738e-02]],\n",
      "       grad_fn=<AddmmBackward0>)\n",
      "\n",
      "\n",
      "After ReLU: tensor([[0.0000, 0.0970, 0.0347, 0.0000, 0.0000, 0.0000, 0.0000, 0.4674, 0.9168,\n",
      "         0.0053, 0.0000, 0.0000, 0.0229, 0.1820, 0.0000, 0.0000, 0.0000, 0.0000,\n",
      "         0.0000, 0.0904],\n",
      "        [0.0000, 0.0000, 0.0000, 0.0000, 0.0000, 0.0610, 0.0000, 0.3847, 0.3368,\n",
      "         0.0000, 0.0000, 0.0000, 0.0145, 0.2520, 0.0000, 0.0000, 0.0000, 0.0000,\n",
      "         0.0301, 0.3215],\n",
      "        [0.0830, 0.1373, 0.0000, 0.0000, 0.0000, 0.1130, 0.0000, 0.2619, 0.5225,\n",
      "         0.0000, 0.0000, 0.0000, 0.0000, 0.3845, 0.1781, 0.0000, 0.0000, 0.0000,\n",
      "         0.2477, 0.0000]], grad_fn=<ReluBackward0>)\n",
      "tensor([[ 0.1201, -0.1035,  0.1194,  0.0506,  0.1723, -0.3216, -0.1225,  0.1640,\n",
      "          0.0722, -0.0736],\n",
      "        [-0.0054, -0.0983,  0.1205,  0.1126,  0.0897, -0.2246, -0.1960,  0.1072,\n",
      "         -0.0238, -0.2071],\n",
      "        [ 0.1215, -0.0949,  0.1362,  0.0959, -0.0062, -0.2726, -0.1679,  0.1268,\n",
      "         -0.0663, -0.2185]], grad_fn=<AddmmBackward0>)\n",
      "Model structure: NeuralNetwork(\n",
      "  (flatten): Flatten(start_dim=1, end_dim=-1)\n",
      "  (linear_relu_stack): Sequential(\n",
      "    (0): Linear(in_features=784, out_features=512, bias=True)\n",
      "    (1): ReLU()\n",
      "    (2): Linear(in_features=512, out_features=512, bias=True)\n",
      "    (3): ReLU()\n",
      "    (4): Linear(in_features=512, out_features=10, bias=True)\n",
      "  )\n",
      ")\n",
      "\n",
      "\n",
      "Layer: linear_relu_stack.0.weight | Size: torch.Size([512, 784]) | Values : tensor([[ 0.0349,  0.0205, -0.0195,  ...,  0.0303, -0.0173,  0.0087],\n",
      "        [ 0.0245, -0.0149,  0.0221,  ...,  0.0079,  0.0185, -0.0035]],\n",
      "       grad_fn=<SliceBackward0>) \n",
      "\n",
      "Layer: linear_relu_stack.0.bias | Size: torch.Size([512]) | Values : tensor([-0.0096, -0.0313], grad_fn=<SliceBackward0>) \n",
      "\n",
      "Layer: linear_relu_stack.2.weight | Size: torch.Size([512, 512]) | Values : tensor([[-0.0301, -0.0175, -0.0282,  ..., -0.0111, -0.0211,  0.0177],\n",
      "        [-0.0038, -0.0214,  0.0202,  ...,  0.0343,  0.0063, -0.0264]],\n",
      "       grad_fn=<SliceBackward0>) \n",
      "\n",
      "Layer: linear_relu_stack.2.bias | Size: torch.Size([512]) | Values : tensor([-0.0320,  0.0395], grad_fn=<SliceBackward0>) \n",
      "\n",
      "Layer: linear_relu_stack.4.weight | Size: torch.Size([10, 512]) | Values : tensor([[ 0.0258, -0.0398, -0.0411,  ...,  0.0058, -0.0387, -0.0402],\n",
      "        [ 0.0299,  0.0246,  0.0347,  ..., -0.0153,  0.0277,  0.0057]],\n",
      "       grad_fn=<SliceBackward0>) \n",
      "\n",
      "Layer: linear_relu_stack.4.bias | Size: torch.Size([10]) | Values : tensor([0.0321, 0.0171], grad_fn=<SliceBackward0>) \n",
      "\n"
     ]
    }
   ],
   "source": [
    "import os\n",
    "import torch\n",
    "from torch import nn\n",
    "from torch.utils.data import DataLoader\n",
    "from torchvision import datasets, transforms\n",
    "\n",
    "\n",
    "device = \"cuda\" if torch.cuda.is_available() else \"cpu\"\n",
    "print(f\"Using {device} device\")\n",
    "\n",
    "class NeuralNetwork(nn.Module):\n",
    "\n",
    "    def __init__(self):\n",
    "        super(NeuralNetwork, self).__init__()\n",
    "        self.flatten = nn.Flatten()\n",
    "        self.linear_relu_stack = nn.Sequential(\n",
    "            nn.Linear(28 * 28, 512),\n",
    "            nn.ReLU(),\n",
    "            nn.Linear(512, 512),\n",
    "            nn.ReLU(),\n",
    "            nn.Linear(512, 10),\n",
    "        )\n",
    "\n",
    "    def forward(self, x):\n",
    "        x = self.flatten(x)\n",
    "        logits = self.linear_relu_stack(x)\n",
    "        return logits\n",
    "\n",
    "model = NeuralNetwork().to(device)\n",
    "print(model)\n",
    "\n",
    "X = torch.rand(1, 28, 28, device=device)\n",
    "#print(X)\n",
    "logits = model(X)\n",
    "print(logits)\n",
    "pred_probab = nn.Softmax(dim=1)(logits)\n",
    "y_pred = pred_probab.argmax(1)\n",
    "print(f\"Predicted class: {y_pred}\")\n",
    "\n",
    "input_image = torch.rand(3, 28, 28)\n",
    "print(input_image.size())\n",
    "\n",
    "flatten = nn.Flatten()\n",
    "flat_image = flatten(input_image)\n",
    "print(flat_image.size())\n",
    "\n",
    "layer1 = nn.Linear(in_features=28 * 28, out_features=20)\n",
    "hidden1 = layer1(flat_image)\n",
    "print(hidden1.size())\n",
    "\n",
    "print(f\"Before ReLU: {hidden1}\\n\\n\")\n",
    "hidden1 = nn.ReLU()(hidden1)\n",
    "print(f\"After ReLU: {hidden1}\")\n",
    "\n",
    "seq_modules = nn.Sequential(\n",
    "    flatten,\n",
    "    layer1,\n",
    "    nn.ReLU(),\n",
    "    nn.Linear(20, 10)\n",
    ")\n",
    "input_image = torch.rand(3, 28, 28)\n",
    "logits = seq_modules(input_image)\n",
    "print(logits)\n",
    "\n",
    "print(f\"Model structure: {model}\\n\\n\")\n",
    "\n",
    "for name, param in model.named_parameters():\n",
    "    print(f\"Layer: {name} | Size: {param.size()} | Values : {param[:2]} \\n\")\n"
   ]
  },
  {
   "cell_type": "code",
   "execution_count": 13,
   "metadata": {
    "collapsed": false,
    "jupyter": {
     "outputs_hidden": false
    },
    "pycharm": {
     "name": "#%%\n"
    }
   },
   "outputs": [
    {
     "name": "stdout",
     "output_type": "stream",
     "text": [
      "[3, 4, 5]\n",
      "[3, 6, 5]\n",
      "[4, tensor([[6.6687, 5.4601, 5.2171],\n",
      "        [6.6477, 5.7554, 6.9142],\n",
      "        [5.9767, 6.5670, 7.0807],\n",
      "        [7.8632, 5.4008, 6.5975],\n",
      "        [6.5069, 5.9347, 7.3944]]), tensor([[3.8375, 4.9677, 4.7583],\n",
      "        [7.7648, 5.1790, 5.6567],\n",
      "        [5.4881, 5.3841, 6.2662],\n",
      "        [5.6773, 3.1149, 5.9589],\n",
      "        [3.9986, 4.2413, 5.3670]])]\n",
      "[4, 1, tensor([[3.8375, 4.9677, 4.7583],\n",
      "        [7.7648, 5.1790, 5.6567],\n",
      "        [5.4881, 5.3841, 6.2662],\n",
      "        [5.6773, 3.1149, 5.9589],\n",
      "        [3.9986, 4.2413, 5.3670]])] <class 'list'>)\n",
      "2\n"
     ]
    }
   ],
   "source": [
    "import torch\n",
    "\n",
    "\n",
    "a = [3, 4, 5]\n",
    "b = a  # a and b refer to the same list object\n",
    "print(f'{b}')\n",
    "a[1] = 6\n",
    "print(f'{b}')\n",
    "for i in range(len(a)):\n",
    "    a[i] += torch.randn(5, 3, requires_grad=False) if i % 3 else 1\n",
    "print(f'{a}')\n",
    "a[1] = 1\n",
    "print(f'{b} {type(b)})')\n",
    "\n",
    "a=4\n",
    "b=a//2\n",
    "print(b)"
   ]
  },
  {
   "cell_type": "code",
   "execution_count": 2,
   "metadata": {
    "collapsed": false,
    "jupyter": {
     "outputs_hidden": false
    },
    "pycharm": {
     "name": "#%%\n"
    }
   },
   "outputs": [
    {
     "name": "stdout",
     "output_type": "stream",
     "text": [
      "Buyers:  ['Carson Busses', 'Earl E. Byrd', 'Patty Cakes', 'Derri Anne Connecticut', 'Moe Dess', 'Leda Doggslife', 'Dan Druff', 'Al Fresco', 'Ido Hoe', 'Howie Kisses', 'Len Lease', 'Phil Meup', 'Ira Pent', 'Ben D. Rules', 'Ave Sectomy', 'Gary Shattire', 'Bobbi Soks', 'Sheila Takya', 'Rose Tattoo', 'Moe Tell']\n",
      "Prices:  ['$29.95', '$8.37', '$15.26', '$19.25', '$19.25', '$13.99', '$31.57', '$8.49', '$14.47', '$15.86', '$11.11', '$15.98', '$16.27', '$7.50', '$50.85', '$14.26', '$5.68', '$15.00', '$114.07', '$10.09']\n"
     ]
    }
   ],
   "source": [
    "import requests\n",
    "from lxml import html\n",
    "\n",
    "\n",
    "page = requests.get('http://econpy.pythonanywhere.com/ex/001.html')\n",
    "tree = html.fromstring(page.content)\n",
    "#This will create a list of buyers:\n",
    "buyers = tree.xpath('//div[@title=\"buyer-name\"]/text()')\n",
    "#This will create a list of prices\n",
    "prices = tree.xpath('//span[@class=\"item-price\"]/text()')\n",
    "\n",
    "print('Buyers: ', buyers)\n",
    "print('Prices: ', prices)"
   ]
  },
  {
   "cell_type": "code",
   "execution_count": 3,
   "metadata": {
    "collapsed": false,
    "jupyter": {
     "outputs_hidden": false
    },
    "pycharm": {
     "name": "#%%\n"
    }
   },
   "outputs": [
    {
     "ename": "ModuleNotFoundError",
     "evalue": "No module named 'records'",
     "output_type": "error",
     "traceback": [
      "\u001B[1;31m---------------------------------------------------------------------------\u001B[0m",
      "\u001B[1;31mModuleNotFoundError\u001B[0m                       Traceback (most recent call last)",
      "Input \u001B[1;32mIn [3]\u001B[0m, in \u001B[0;36m<cell line: 1>\u001B[1;34m()\u001B[0m\n\u001B[1;32m----> 1\u001B[0m \u001B[38;5;28;01mimport\u001B[39;00m \u001B[38;5;21;01mrecords\u001B[39;00m\n\u001B[0;32m      2\u001B[0m \u001B[38;5;28;01mimport\u001B[39;00m \u001B[38;5;21;01mpsycopg2\u001B[39;00m\n\u001B[0;32m      3\u001B[0m \u001B[38;5;28;01mimport\u001B[39;00m \u001B[38;5;21;01mtime\u001B[39;00m\n",
      "\u001B[1;31mModuleNotFoundError\u001B[0m: No module named 'records'"
     ]
    }
   ],
   "source": [
    "import records\n",
    "import psycopg2\n",
    "import time\n",
    "\n",
    "\n",
    "db = records.Database('postgresql://wateradmin@kilitary.xyz:5432/wateradmin2')\n",
    "items = db.query('select * from cart_items')  # or db.query_file('sqls/active-users.sql')\n",
    "for item in items:\n",
    "    print(f'{item}')\n",
    "    time.sleep(0.9)"
   ]
  },
  {
   "cell_type": "code",
   "execution_count": 4,
   "metadata": {
    "collapsed": false,
    "jupyter": {
     "outputs_hidden": false
    },
    "pycharm": {
     "name": "#%%\n"
    }
   },
   "outputs": [
    {
     "name": "stdout",
     "output_type": "stream",
     "text": [
      "w tensor([[ 0.0529, -1.2535, -0.6065],\n",
      "        [ 0.7778,  1.7929,  1.3373],\n",
      "        [-0.5502, -1.4719, -1.3781],\n",
      "        [ 1.6215,  0.3692, -1.0087],\n",
      "        [ 0.3545, -2.0619, -0.0913]], requires_grad=True) b tensor([ 1.3144, -0.5872, -0.0697], requires_grad=True) z tensor([ 3.5708, -3.2124, -1.8170], grad_fn=<AddBackward0>)\n",
      "Gradient function for z = <AddBackward0 object at 0x000001241CD67760>\n",
      "Gradient function for loss = <BinaryCrossEntropyWithLogitsBackward0 object at 0x000001241CD65E40>\n",
      "tensor([[0.3242, 0.0129, 0.0466],\n",
      "        [0.3242, 0.0129, 0.0466],\n",
      "        [0.3242, 0.0129, 0.0466],\n",
      "        [0.3242, 0.0129, 0.0466],\n",
      "        [0.3242, 0.0129, 0.0466]])\n",
      "tensor([0.3242, 0.0129, 0.0466])\n"
     ]
    }
   ],
   "source": [
    "x = torch.ones(5)  # input tensor\n",
    "y = torch.zeros(3)  # expected output\n",
    "w = torch.randn(5, 3, requires_grad=True)\n",
    "b = torch.randn(3, requires_grad=True)\n",
    "z = torch.matmul(x, w) + b\n",
    "loss = torch.nn.functional.binary_cross_entropy_with_logits(z, y)\n",
    "print(f'w {w} b {b} z {z}')\n",
    "print(f\"Gradient function for z = {z.grad_fn}\")\n",
    "print(f\"Gradient function for loss = {loss.grad_fn}\")\n",
    "\n",
    "loss.backward(retain_graph=True)\n",
    "print(w.grad)\n",
    "print(b.grad)\n"
   ]
  },
  {
   "cell_type": "code",
   "execution_count": null,
   "metadata": {
    "collapsed": false,
    "jupyter": {
     "outputs_hidden": false
    },
    "pycharm": {
     "name": "#%%\n"
    }
   },
   "outputs": [],
   "source": []
  }
 ],
 "metadata": {
  "kernelspec": {
   "display_name": "Python 3 (ipykernel)",
   "language": "python",
   "name": "python3"
  },
  "language_info": {
   "codemirror_mode": {
    "name": "ipython",
    "version": 3
   },
   "file_extension": ".py",
   "mimetype": "text/x-python",
   "name": "python",
   "nbconvert_exporter": "python",
   "pygments_lexer": "ipython3",
   "version": "3.10.4"
  }
 },
 "nbformat": 4,
 "nbformat_minor": 4
}